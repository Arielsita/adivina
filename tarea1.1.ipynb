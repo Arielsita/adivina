{
 "cells": [
  {
   "cell_type": "code",
   "execution_count": null,
   "metadata": {
    "collapsed": true
   },
   "outputs": [],
   "source": [
    "import random as ran\n",
    "A = ran.randint(1,11)\n",
    "\n",
    "i=1\n",
    "while i <=3:\n",
    "    i+=1\n",
    "    B = int(input(\"adivine el numero correcto.  Intento \"))\n",
    "\n",
    "    if A == B:\n",
    "        print(\"Respuesta correcta, lo haz logrado\")\n",
    "    else:\n",
    "        print(\"Lastima, vuelve a intentarlo\")\n",
    "print(\"Juego terminado\")"
   ]
  }
 ],
 "metadata": {
  "kernelspec": {
   "display_name": "Python 3",
   "language": "python",
   "name": "python3"
  },
  "language_info": {
   "codemirror_mode": {
    "name": "ipython",
    "version": 3
   },
   "file_extension": ".py",
   "mimetype": "text/x-python",
   "name": "python",
   "nbconvert_exporter": "python",
   "pygments_lexer": "ipython3",
   "version": "3.6.1"
  }
 },
 "nbformat": 4,
 "nbformat_minor": 2
}
