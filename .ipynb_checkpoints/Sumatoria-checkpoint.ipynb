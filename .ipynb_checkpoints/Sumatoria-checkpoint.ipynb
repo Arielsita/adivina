{
 "cells": [
  {
   "cell_type": "code",
   "execution_count": null,
   "metadata": {
    "collapsed": true
   },
   "outputs": [],
   "source": [
    "A= int(input(\"Escriba el inicio de la sumatoria \"))\n",
    "B= int(input(\"Escriba el final de l sumatoria \"))+ 1\n",
    "suma = 0\n",
    "\n",
    "for i in range (A,B):\n",
    "    suma = suma+i\n",
    "    \n",
    "print (\"La suma total es de \") ,suma"
   ]
  }
 ],
 "metadata": {
  "kernelspec": {
   "display_name": "Python 3",
   "language": "python",
   "name": "python3"
  },
  "language_info": {
   "codemirror_mode": {
    "name": "ipython",
    "version": 3
   },
   "file_extension": ".py",
   "mimetype": "text/x-python",
   "name": "python",
   "nbconvert_exporter": "python",
   "pygments_lexer": "ipython3",
   "version": "3.6.1"
  }
 },
 "nbformat": 4,
 "nbformat_minor": 2
}
