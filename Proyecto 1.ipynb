{
 "cells": [
  {
   "cell_type": "code",
   "execution_count": 1,
   "metadata": {
    "collapsed": true
   },
   "outputs": [],
   "source": [
    "import matplotlib.pyplot as plt\n",
    "import numpy as np\n",
    "from scipy.integrate import odeint \n",
    "%matplotlib inline"
   ]
  },
  {
   "cell_type": "code",
   "execution_count": 68,
   "metadata": {
    "collapsed": true
   },
   "outputs": [],
   "source": [
    "k = .5# Constante de la elasticidad del resorte. si es muy poco no lo baja, si es mucho el movimiento sera demasiado rapido\n",
    "m = 1.0  # Masa\n",
    "B = 2  # Constante de amortiguamiento    sobreamotiguamiento\n",
    "\n",
    "def armonico(variables, t):\n",
    "    x, y = variables\n",
    "    return [y, -k * x / m - B / m * y]\n",
    "\n",
    "inicial = [0, 8] # Vector de posición inicial y magnitud inicial\n",
    "\n",
    "\n",
    "#tiempo = np.linspace(0, 15)  # Dominio temporal de 0 a 40 segundos que dura el terremoto\n",
    "tiempo = np.arange(0, 40, .01)\n",
    "\n",
    "resultado = odeint(armonico, inicial, tiempo) "
   ]
  },
  {
   "cell_type": "code",
   "execution_count": 69,
   "metadata": {
    "collapsed": true
   },
   "outputs": [],
   "source": [
    "xx, yy = resultado.T  # extraer posición y velocidad."
   ]
  },
  {
   "cell_type": "code",
   "execution_count": 70,
   "metadata": {},
   "outputs": [
    {
     "data": {
      "application/vnd.jupyter.widget-view+json": {
       "model_id": "8ef37c35c19d4259ab6cb6827a2bc95f"
      }
     },
     "metadata": {},
     "output_type": "display_data"
    },
    {
     "data": {
      "image/png": "[encoded data removed]",
      "text/plain": [
       "<matplotlib.figure.Figure at 0x1ff1aa63e80>"
      ]
     },
     "metadata": {},
     "output_type": "display_data"
    }
   ],
   "source": [
    "\n",
    "from ipywidgets import *\n",
    "def amortiguado(t = 0):\n",
    "    fig = plt.figure()\n",
    "    ax = fig.add_subplot(1, 1, 1)\n",
    "    ax.plot(tiempo, xx,  'k-')\n",
    "    ax.plot(tiempo[t], xx[t],  'ro')\n",
    "    ax.text(20, .8, 'tiempo =    %s'%tiempo[t])\n",
    "    ax.text(20, .5, 'posición =  %s'%xx[t])\n",
    "    fig.canvas.draw()\n",
    "t_f = len(tiempo) \n",
    "interact_manual(amortiguado, t = (0, t_f, 1));"
   ]
  },
  {
   "cell_type": "code",
   "execution_count": null,
   "metadata": {
    "collapsed": true
   },
   "outputs": [],
   "source": []
  }
 ],
 "metadata": {
  "kernelspec": {
   "display_name": "Python 3",
   "language": "python",
   "name": "python3"
  },
  "language_info": {
   "codemirror_mode": {
    "name": "ipython",
    "version": 3
   },
   "file_extension": ".py",
   "mimetype": "text/x-python",
   "name": "python",
   "nbconvert_exporter": "python",
   "pygments_lexer": "ipython3",
   "version": "3.6.1"
  }
 },
 "nbformat": 4,
 "nbformat_minor": 2
}
