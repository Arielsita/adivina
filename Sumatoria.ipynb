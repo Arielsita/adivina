{
 "cells": [
  {
   "cell_type": "code",
   "execution_count": 1,
   "metadata": {},
   "outputs": [
    {
     "name": "stdout",
     "output_type": "stream",
     "text": [
      "Escriba el inicio de la sumatoria 1\n",
      "Escriba el final de l sumatoria 6\n",
      "La suma total es de \n"
     ]
    },
    {
     "data": {
      "text/plain": [
       "(None, 21)"
      ]
     },
     "execution_count": 1,
     "metadata": {},
     "output_type": "execute_result"
    }
   ],
   "source": [
    "A= int(input(\"Escriba el inicio de la sumatoria \"))\n",
    "B= int(input(\"Escriba el final de l sumatoria \"))+ 1\n",
    "suma = 0\n",
    "\n",
    "for i in range (A,B):\n",
    "    suma = suma+i\n",
    "    \n",
    "print (\"La suma total es de \") ,suma\n"
   ]
  },
  {
   "cell_type": "code",
   "execution_count": 6,
   "metadata": {},
   "outputs": [
    {
     "name": "stdout",
     "output_type": "stream",
     "text": [
      "Escriba el numero factorial 4\n",
      "1\n",
      "2\n",
      "3\n",
      "4\n",
      "El producto final  es de \n"
     ]
    },
    {
     "data": {
      "text/plain": [
       "(None, 24)"
      ]
     },
     "execution_count": 6,
     "metadata": {},
     "output_type": "execute_result"
    }
   ],
   "source": [
    "A= int(input(\"Escriba el numero factorial \"))+1\n",
    "suma = 1\n",
    "\n",
    "for i in range (1,A):\n",
    "    print (i)\n",
    "    suma = suma*i\n",
    "    \n",
    "print (\"El producto final  es de \") ,suma"
   ]
  },
  {
   "cell_type": "code",
   "execution_count": null,
   "metadata": {
    "collapsed": true
   },
   "outputs": [],
   "source": []
  },
  {
   "cell_type": "code",
   "execution_count": null,
   "metadata": {
    "collapsed": true
   },
   "outputs": [],
   "source": []
  }
 ],
 "metadata": {
  "kernelspec": {
   "display_name": "Python 3",
   "language": "python",
   "name": "python3"
  },
  "language_info": {
   "codemirror_mode": {
    "name": "ipython",
    "version": 3
   },
   "file_extension": ".py",
   "mimetype": "text/x-python",
   "name": "python",
   "nbconvert_exporter": "python",
   "pygments_lexer": "ipython3",
   "version": "3.6.1"
  }
 },
 "nbformat": 4,
 "nbformat_minor": 2
}
