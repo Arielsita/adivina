{
 "cells": [
  {
   "cell_type": "markdown",
   "metadata": {},
   "source": [
    "# Examen Módulo 1 - Ecuaciones diferenciales. <font color =blue> Tipo de examen 1.  </font>\n",
    "\n",
    "Lea cuidadosamente las siguientes indicaciones antes de comenzar el examen:\n",
    "\n",
    "- Para resolver el examen edite este mismo archivo y renómbrelo de la siguiente manera: *Examen1_ApellidoNombre*, donde *ApellidoNombre* corresponde a su apellido paterno con la inicial en mayúscula, seguido de su primer nombre con la inicial en mayúscula **sin acentos**. Por ejemplo, en mi caso el nombre del archivo sería Examen1_LopezMichel.\n",
    "- Resuelva los puntos en el espacio provisto. Si requiere agregar más celdas para código o escritura, hágalo.\n",
    "- Recuerde que también se está evaluando su capacidad de interpretar los resultados. Escriba sus interpretaciones/conclusiones en celdas utilizando *Markdown*.\n",
    "- El formato de presentación de todo el examen en general debe ser adecuado. Use tamaños de letra, colores, etiquetas, etcétera.\n",
    "- No se resuelven dudas de ningún tipo por los profesores de la asignatura. Por favor, absténgase de preguntar.\n",
    "- Revise bien el tipo de examen. Sólo se le calificará si realiza el tipo de examen asignado."
   ]
  },
  {
   "cell_type": "code",
   "execution_count": 9,
   "metadata": {
    "collapsed": true
   },
   "outputs": [],
   "source": [
    "%matplotlib inline \n",
    "\n",
    "import sympy as sym\n",
    "import numpy as np\n",
    "import matplotlib.pylab as plt\n",
    "\n",
    "from sympy import init_printing; init_printing(use_latex='mathjax')\n",
    "from IPython.display import display\n",
    "from IPython.display import HTML\n",
    "from scipy.integrate import odeint\n",
    "from ipywidgets import *\n",
    "\n",
    "Ley_Newton_enfriamiento='<iframe src=https://es.wikipedia.org/wiki/Ley_del_enfriamiento_de_Newton?useformat=mobile width=700 height=350></iframe>'\n",
    "Torricelli='<iframe src=https://en.wikipedia.org/wiki/Torricelli%27s_law?useformat=mobile width=700 height=350></iframe>'\n",
    "Caidalibre ='<iframe src=https://es.wikipedia.org/wiki/Ca%C3%ADda_libre?useformat=mobile width=700 height=350></iframe>'\n",
    "\n",
    "sym.var('k t x')\n",
    "\n",
    "T = sym.Function('T')"
   ]
  },
  {
   "cell_type": "code",
   "execution_count": null,
   "metadata": {
    "collapsed": true
   },
   "outputs": [],
   "source": []
  },
  {
   "cell_type": "markdown",
   "metadata": {},
   "source": [
    "# Primer punto (50 puntos).\n",
    "\n",
    "## Introducción al problema. \n",
    "\n",
    "## Ley de Newton del enfriamiento\n",
    "\n",
    "La ley empírica de Newton, relativa al enfriamiento de un objeto, se expresa con la ecuación diferencial lineal de primer orden\n",
    "\n",
    "$$\\frac{dT}{dt} = k(T - Tm) $$\n",
    "\n",
    "en que $k$ es una constante de proporcionalidad, $T(r)$ es la temperatura del objeto cuando $t > 0$\n",
    "y $T_m$ es la temperatura ambiente; o sea, la temperatura del medio que rodea al objeto. \n",
    "\n",
    "Supondremos que $T_m$ es constante."
   ]
  },
  {
   "cell_type": "markdown",
   "metadata": {},
   "source": [
    "### Para más información revise la siguiente pagina. "
   ]
  },
  {
   "cell_type": "code",
   "execution_count": 10,
   "metadata": {},
   "outputs": [
    {
     "data": {
      "application/vnd.jupyter.widget-view+json": {
       "model_id": "7beda0bac1c143c2ad403df59725bf93"
      }
     },
     "metadata": {},
     "output_type": "display_data"
    }
   ],
   "source": [
    "HTML(Ley_Newton_enfriamiento)"
   ]
  },
  {
   "cell_type": "markdown",
   "metadata": {},
   "source": [
    "# <font color = red> Problema 1 <font>\n",
    "\n",
    "## ¿Cuánto esperar para tomar el café?\n",
    "\n",
    "Primero calentamos agua a $80°C$. Posteriormente agregamos café al vaso con el agua caliente. Después realizamos la medición de la temperatura ambiente, la cual fue de $24°C$. Realiza las siguientes actividades:\n",
    "\n",
    "1. (20 puntos) Simula el sistema en un tiempo de $0$ a $120$ unidades de tiempo  con una constante de proporcionalidad $k=-0.0565$,  \n",
    "2. (15 puntos) \n",
    "    - (10 puntos) Grafique la solución.\n",
    "    - (5 puntos) Supoga que cada unidad de tiempo corresponde a un minuto. ¿En que tiempo aproximadamente la temperatura es menor a $30°C$?\n",
    "3. (15 puntos)\n",
    "    - (10 puntos) ¿Qué interpretación puedes decir para valores de $k >0$?\n",
    "    - (5  puntos) Busca una constante de proporcionalidad $k$ en un rango ( de $-0.2$ a $0.2$ con incremento de 0.01), para la cual el cafe tiene una temperatura menor de $30°C$ en un tiempo a 20 minutos."
   ]
  },
  {
   "cell_type": "markdown",
   "metadata": {},
   "source": [
    "# respu 1"
   ]
  },
  {
   "cell_type": "code",
   "execution_count": 40,
   "metadata": {},
   "outputs": [
    {
     "data": {
      "image/png": "[encoded data removed]",
      "text/plain": [
       "<matplotlib.figure.Figure at 0x24a8a197160>"
      ]
     },
     "metadata": {},
     "output_type": "display_data"
    }
   ],
   "source": [
    "k= -0.0565\n",
    "Tm=24\n",
    "T=80\n",
    "def newton(T,t):\n",
    "    return k*(T-Tm)\n",
    "A=80\n",
    "H= np.arange(0,120,1)\n",
    "G= odeint(newton,A,H)\n",
    "plt.plot (H,G)\n",
    "plt.xlabel(\"$t$\", fontsize = 18)\n",
    "plt.ylabel(\"$T$\", fontsize = 18)\n",
    "plt.show()"
   ]
  },
  {
   "cell_type": "code",
   "execution_count": 49,
   "metadata": {},
   "outputs": [
    {
     "data": {
      "text/plain": [
       "'R=40 min '"
      ]
     },
     "execution_count": 49,
     "metadata": {},
     "output_type": "execute_result"
    }
   ],
   "source": [
    "G[40]\n",
    "\"¿En que tiempo aproximadamente la temperatura es menor a 30°C?\"\n",
    "\"R=40 min \""
   ]
  },
  {
   "cell_type": "code",
   "execution_count": 52,
   "metadata": {},
   "outputs": [
    {
     "data": {
      "image/png": "[encoded data removed]",
      "text/plain": [
       "<matplotlib.figure.Figure at 0x24a8b2d9978>"
      ]
     },
     "metadata": {},
     "output_type": "display_data"
    }
   ],
   "source": [
    "k= 0.1\n",
    "Tm=24\n",
    "T=80\n",
    "def newton(T,t):\n",
    "    return k*(T-Tm)\n",
    "A=80\n",
    "H= np.arange(0,120,1)\n",
    "G= odeint(newton,A,H)\n",
    "plt.plot (H,G)\n",
    "plt.xlabel(\"$t$\", fontsize = 18)\n",
    "plt.ylabel(\"$T$\", fontsize = 18)\n",
    "plt.show()"
   ]
  },
  {
   "cell_type": "code",
   "execution_count": 123,
   "metadata": {
    "collapsed": true
   },
   "outputs": [],
   "source": [
    "# que la temperatura subira exponencialmente"
   ]
  },
  {
   "cell_type": "code",
   "execution_count": 73,
   "metadata": {},
   "outputs": [
    {
     "data": {
      "image/png": "[encoded data removed]",
      "text/plain": [
       "<matplotlib.figure.Figure at 0x24a8b5caf60>"
      ]
     },
     "metadata": {},
     "output_type": "display_data"
    }
   ],
   "source": [
    "\n",
    "Tm=24\n",
    "T=80\n",
    "def newton(T,t):\n",
    "    return k*(T-Tm)\n",
    "A=80\n",
    "H= np.arange(0,120,0.01)\n",
    "G= odeint(newton,A,H)\n",
    "plt.plot (H,G)\n",
    "plt.xlabel(\"$t$\", fontsize = 18)\n",
    "plt.ylabel(\"$T$\", fontsize = 18)\n",
    "plt.show()"
   ]
  },
  {
   "cell_type": "code",
   "execution_count": 82,
   "metadata": {},
   "outputs": [
    {
     "data": {
      "text/plain": [
       "array([ 30.06995745])"
      ]
     },
     "execution_count": 82,
     "metadata": {},
     "output_type": "execute_result"
    }
   ],
   "source": [
    "G[2222]"
   ]
  },
  {
   "cell_type": "code",
   "execution_count": null,
   "metadata": {
    "collapsed": true
   },
   "outputs": [],
   "source": []
  },
  {
   "cell_type": "markdown",
   "metadata": {},
   "source": [
    "## Segundo punto (50 puntos).\n",
    "\n",
    "## Introducción al problema. \n",
    "\n",
    "## Caída libre\n",
    "\n",
    "En la caída libre ideal, se desprecia la resistencia aerodinámica que presenta el aire al movimiento del cuerpo, analizando lo que pasaría en el vacío. En esas condiciones, la aceleración que adquiriría el cuerpo sería debida exclusivamente a la gravedad, siendo independiente de su masa.\n",
    "\n",
    "$$\n",
    "\\begin{eqnarray}\n",
    "\\frac{ds}{dt} &=& v \\\\\n",
    "\\frac{dv}{dt} &=& -g\n",
    "\\end{eqnarray}\n",
    "$$\n",
    "\n",
    "O visto el sistema en forma canónica\n",
    "\n",
    "$$\n",
    "\\begin{eqnarray}\n",
    "\\dot{x}_1 &=& x_2 \\\\\n",
    "\\dot{x}_2 &=& -g\n",
    "\\end{eqnarray}\n",
    "$$\n"
   ]
  },
  {
   "cell_type": "markdown",
   "metadata": {},
   "source": [
    "### Para más información revise la siguiente pagina. "
   ]
  },
  {
   "cell_type": "code",
   "execution_count": 91,
   "metadata": {},
   "outputs": [
    {
     "data": {
      "application/vnd.jupyter.widget-view+json": {
       "model_id": "da46d9a78c844489bfe15fa36827d4ef"
      }
     },
     "metadata": {},
     "output_type": "display_data"
    }
   ],
   "source": [
    "HTML(Caidalibre)"
   ]
  },
  {
   "cell_type": "markdown",
   "metadata": {},
   "source": [
    "# <font color = red> Problema 2 <font>\n",
    "\n",
    "## Deja caer una pelota\n",
    "\n",
    "Desde un edificio de altura de $314$ metros se deja caer una pelota, que tarda 8 segundos en llegar al piso. ¿con que velocidad impacta la pelota contra el piso?\n",
    "\n",
    "\n",
    "1. (20 puntos) Simula el sistema en un tiempo de $0$ a $8$ unidades de tiempo  con una constante de gravedad $g=-9.8$,  \n",
    "2. (15 puntos) \n",
    "    - (10 puntos) Grafique la solución.\n",
    "    - (5 puntos) Supoga que cada unidad de tiempo corresponde a un segundo. ¿En que tiempo aproximadamente la pelota esta a la mitad del edificio?\n",
    "3. (15 puntos)\n",
    "    - (10 puntos) ¿Qué interpretación puedes decir para una posicion inicial de $314 m$ y una velocidad de $30 m/s$ ?\n",
    "    - (5  puntos) ¿Que altura aproximadamente tendra en $10s$ para el incisio anterior?\n",
    "\n",
    "\n",
    "\n"
   ]
  },
  {
   "cell_type": "code",
   "execution_count": 118,
   "metadata": {},
   "outputs": [
    {
     "data": {
      "image/png": "[encoded data removed]",
      "text/plain": [
       "<matplotlib.figure.Figure at 0x24a8b7896a0>"
      ]
     },
     "metadata": {},
     "output_type": "display_data"
    }
   ],
   "source": [
    "g = 9.81\n",
    "m = 314\n",
    "\n",
    "def armonico(y, t):\n",
    "    return (1/2)*(-g*(t**2))+m\n",
    "\n",
    "t = np.arange(0,9,1) \n",
    "plt.plot (t,armonico(m,t))\n",
    "plt.xlabel(\"$Tiempo$\", fontsize = 18)\n",
    "plt.ylabel(\"$Metros$\", fontsize = 18)\n",
    "plt.show()"
   ]
  },
  {
   "cell_type": "code",
   "execution_count": 124,
   "metadata": {},
   "outputs": [],
   "source": [
    "# La pelota impacta en el piso a una velocidad de 39.25 m/s"
   ]
  },
  {
   "cell_type": "code",
   "execution_count": 142,
   "metadata": {},
   "outputs": [
    {
     "data": {
      "image/png": "[encoded data removed]",
      "text/plain": [
       "<matplotlib.figure.Figure at 0x24a86905550>"
      ]
     },
     "metadata": {},
     "output_type": "display_data"
    }
   ],
   "source": [
    "g = 9.81\n",
    "m = 314\n",
    "\n",
    "def armonico(y, t):\n",
    "    return (1/2)*(-g*(t**2))+m\n",
    "t = np.arange(0,9,1) \n",
    "plt.plot (t,armonico(m,t))\n",
    "plt.xlabel(\"$Tiempo$\", fontsize = 18)\n",
    "plt.ylabel(\"$Metros$\", fontsize = 18)\n",
    "plt.show()"
   ]
  },
  {
   "cell_type": "code",
   "execution_count": 135,
   "metadata": {},
   "outputs": [],
   "source": [
    "#La pelota va a mitad de camino en el segundo 5.5"
   ]
  },
  {
   "cell_type": "markdown",
   "metadata": {},
   "source": [
    "<script>\n",
    "  $(document).ready(function(){\n",
    "    $('div.prompt').hide();\n",
    "    $('div.back-to-top').hide();\n",
    "    $('nav#menubar').hide();\n",
    "    $('.breadcrumb').hide();\n",
    "    $('.hidden-print').hide();\n",
    "  });\n",
    "</script>\n",
    "\n",
    "<footer id=\"attribution\" style=\"float:right; color:#808080; background:#fff;\">\n",
    "Created with Jupyter by Michel Emanuel López Franco.\n",
    "</footer>"
   ]
  },
  {
   "cell_type": "code",
   "execution_count": 145,
   "metadata": {},
   "outputs": [
    {
     "data": {
      "image/png": "[encoded data removed]",
      "text/plain": [
       "<matplotlib.figure.Figure at 0x24a8b794438>"
      ]
     },
     "metadata": {},
     "output_type": "display_data"
    }
   ],
   "source": [
    "g = 9.81\n",
    "m = 314\n",
    "\n",
    "def armonico(y, t):\n",
    "    return (1/2)*(-g*(t**2))+(30*t)+m\n",
    "t = np.arange(0,11,1) \n",
    "plt.plot (t,armonico(m,t))\n",
    "plt.xlabel(\"$Tiempo$\", fontsize = 18)\n",
    "plt.ylabel(\"$Metros$\", fontsize = 18)\n",
    "plt.show()"
   ]
  },
  {
   "cell_type": "code",
   "execution_count": null,
   "metadata": {
    "collapsed": true
   },
   "outputs": [],
   "source": []
  }
 ],
 "metadata": {
  "kernelspec": {
   "display_name": "Python 3",
   "language": "python",
   "name": "python3"
  },
  "language_info": {
   "codemirror_mode": {
    "name": "ipython",
    "version": 3
   },
   "file_extension": ".py",
   "mimetype": "text/x-python",
   "name": "python",
   "nbconvert_exporter": "python",
   "pygments_lexer": "ipython3",
   "version": "3.6.1"
  },
  "widgets": {
   "state": {
    "953c92b52019446ea21b2c969ac3716b": {
     "views": [
      {
       "cell_index": 11
      }
     ]
    },
    "9a6935292a92418a8d3ef2a4f90b19bd": {
     "views": [
      {
       "cell_index": 5
      }
     ]
    }
   },
   "version": "1.2.0"
  }
 },
 "nbformat": 4,
 "nbformat_minor": 2
}
